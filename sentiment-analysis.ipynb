{
 "cells": [
  {
   "cell_type": "code",
   "execution_count": 1,
   "id": "e669cd7c",
   "metadata": {
    "_cell_guid": "b1076dfc-b9ad-4769-8c92-a6c4dae69d19",
    "_uuid": "8f2839f25d086af736a60e9eeb907d3b93b6e0e5",
    "execution": {
     "iopub.execute_input": "2024-02-17T15:34:17.955621Z",
     "iopub.status.busy": "2024-02-17T15:34:17.955145Z",
     "iopub.status.idle": "2024-02-17T15:34:19.271431Z",
     "shell.execute_reply": "2024-02-17T15:34:19.269485Z"
    },
    "papermill": {
     "duration": 1.339172,
     "end_time": "2024-02-17T15:34:19.274879",
     "exception": false,
     "start_time": "2024-02-17T15:34:17.935707",
     "status": "completed"
    },
    "tags": []
   },
   "outputs": [
    {
     "name": "stdout",
     "output_type": "stream",
     "text": [
      "/kaggle/input/sentiment-analysis-project/Sentiment Analysis/amazon_cells_labelled.txt\n",
      "/kaggle/input/sentiment-analysis-project/Sentiment Analysis/imdb_labelled.txt\n",
      "/kaggle/input/sentiment-analysis-project/Sentiment Analysis/yelp_labelled.txt\n"
     ]
    }
   ],
   "source": [
    "# This Python 3 environment comes with many helpful analytics libraries installed\n",
    "# It is defined by the kaggle/python Docker image: https://github.com/kaggle/docker-python\n",
    "# For example, here's several helpful packages to load\n",
    "\n",
    "import numpy as np # linear algebra\n",
    "import pandas as pd # data processing, CSV file I/O (e.g. pd.read_csv)\n",
    "\n",
    "# Input data files are available in the read-only \"../input/\" directory\n",
    "# For example, running this (by clicking run or pressing Shift+Enter) will list all files under the input directory\n",
    "\n",
    "import os\n",
    "for dirname, _, filenames in os.walk('/kaggle/input'):\n",
    "    for filename in filenames:\n",
    "        print(os.path.join(dirname, filename))\n",
    "\n",
    "# You can write up to 20GB to the current directory (/kaggle/working/) that gets preserved as output when you create a version using \"Save & Run All\" \n",
    "# You can also write temporary files to /kaggle/temp/, but they won't be saved outside of the current session"
   ]
  },
  {
   "cell_type": "code",
   "execution_count": 2,
   "id": "84f267d5",
   "metadata": {
    "execution": {
     "iopub.execute_input": "2024-02-17T15:34:19.307891Z",
     "iopub.status.busy": "2024-02-17T15:34:19.306537Z",
     "iopub.status.idle": "2024-02-17T15:34:26.926385Z",
     "shell.execute_reply": "2024-02-17T15:34:26.924617Z"
    },
    "papermill": {
     "duration": 7.639695,
     "end_time": "2024-02-17T15:34:26.929756",
     "exception": false,
     "start_time": "2024-02-17T15:34:19.290061",
     "status": "completed"
    },
    "tags": []
   },
   "outputs": [],
   "source": [
    "import spacy\n",
    "import pandas as pd\n",
    "import numpy as np\n",
    "from spacy.lang.en.stop_words import STOP_WORDS"
   ]
  },
  {
   "cell_type": "code",
   "execution_count": 3,
   "id": "8e1ca29a",
   "metadata": {
    "execution": {
     "iopub.execute_input": "2024-02-17T15:34:26.960821Z",
     "iopub.status.busy": "2024-02-17T15:34:26.960056Z",
     "iopub.status.idle": "2024-02-17T15:34:33.452524Z",
     "shell.execute_reply": "2024-02-17T15:34:33.451061Z"
    },
    "papermill": {
     "duration": 6.511532,
     "end_time": "2024-02-17T15:34:33.455665",
     "exception": false,
     "start_time": "2024-02-17T15:34:26.944133",
     "status": "completed"
    },
    "tags": []
   },
   "outputs": [],
   "source": [
    "nlp=spacy.load('en_core_web_lg')"
   ]
  },
  {
   "cell_type": "code",
   "execution_count": 4,
   "id": "69cc69e0",
   "metadata": {
    "execution": {
     "iopub.execute_input": "2024-02-17T15:34:33.487404Z",
     "iopub.status.busy": "2024-02-17T15:34:33.486131Z",
     "iopub.status.idle": "2024-02-17T15:34:33.510504Z",
     "shell.execute_reply": "2024-02-17T15:34:33.509130Z"
    },
    "papermill": {
     "duration": 0.043539,
     "end_time": "2024-02-17T15:34:33.513626",
     "exception": false,
     "start_time": "2024-02-17T15:34:33.470087",
     "status": "completed"
    },
    "tags": []
   },
   "outputs": [],
   "source": [
    "df1=pd.read_csv('/kaggle/input/sentiment-analysis-project/Sentiment Analysis/amazon_cells_labelled.txt',sep='\\t',header=None)"
   ]
  },
  {
   "cell_type": "code",
   "execution_count": 5,
   "id": "465dda96",
   "metadata": {
    "execution": {
     "iopub.execute_input": "2024-02-17T15:34:33.545922Z",
     "iopub.status.busy": "2024-02-17T15:34:33.545371Z",
     "iopub.status.idle": "2024-02-17T15:34:33.580215Z",
     "shell.execute_reply": "2024-02-17T15:34:33.578534Z"
    },
    "papermill": {
     "duration": 0.054647,
     "end_time": "2024-02-17T15:34:33.582906",
     "exception": false,
     "start_time": "2024-02-17T15:34:33.528259",
     "status": "completed"
    },
    "tags": []
   },
   "outputs": [
    {
     "data": {
      "text/html": [
       "<div>\n",
       "<style scoped>\n",
       "    .dataframe tbody tr th:only-of-type {\n",
       "        vertical-align: middle;\n",
       "    }\n",
       "\n",
       "    .dataframe tbody tr th {\n",
       "        vertical-align: top;\n",
       "    }\n",
       "\n",
       "    .dataframe thead th {\n",
       "        text-align: right;\n",
       "    }\n",
       "</style>\n",
       "<table border=\"1\" class=\"dataframe\">\n",
       "  <thead>\n",
       "    <tr style=\"text-align: right;\">\n",
       "      <th></th>\n",
       "      <th>0</th>\n",
       "      <th>1</th>\n",
       "    </tr>\n",
       "  </thead>\n",
       "  <tbody>\n",
       "    <tr>\n",
       "      <th>0</th>\n",
       "      <td>So there is no way for me to plug it in here i...</td>\n",
       "      <td>0</td>\n",
       "    </tr>\n",
       "    <tr>\n",
       "      <th>1</th>\n",
       "      <td>Good case, Excellent value.</td>\n",
       "      <td>1</td>\n",
       "    </tr>\n",
       "    <tr>\n",
       "      <th>2</th>\n",
       "      <td>Great for the jawbone.</td>\n",
       "      <td>1</td>\n",
       "    </tr>\n",
       "    <tr>\n",
       "      <th>3</th>\n",
       "      <td>Tied to charger for conversations lasting more...</td>\n",
       "      <td>0</td>\n",
       "    </tr>\n",
       "    <tr>\n",
       "      <th>4</th>\n",
       "      <td>The mic is great.</td>\n",
       "      <td>1</td>\n",
       "    </tr>\n",
       "  </tbody>\n",
       "</table>\n",
       "</div>"
      ],
      "text/plain": [
       "                                                   0  1\n",
       "0  So there is no way for me to plug it in here i...  0\n",
       "1                        Good case, Excellent value.  1\n",
       "2                             Great for the jawbone.  1\n",
       "3  Tied to charger for conversations lasting more...  0\n",
       "4                                  The mic is great.  1"
      ]
     },
     "execution_count": 5,
     "metadata": {},
     "output_type": "execute_result"
    }
   ],
   "source": [
    "df1.head()"
   ]
  },
  {
   "cell_type": "code",
   "execution_count": 6,
   "id": "50afe264",
   "metadata": {
    "execution": {
     "iopub.execute_input": "2024-02-17T15:34:33.614823Z",
     "iopub.status.busy": "2024-02-17T15:34:33.613879Z",
     "iopub.status.idle": "2024-02-17T15:34:33.630351Z",
     "shell.execute_reply": "2024-02-17T15:34:33.628259Z"
    },
    "papermill": {
     "duration": 0.035268,
     "end_time": "2024-02-17T15:34:33.633112",
     "exception": false,
     "start_time": "2024-02-17T15:34:33.597844",
     "status": "completed"
    },
    "tags": []
   },
   "outputs": [
    {
     "data": {
      "text/html": [
       "<div>\n",
       "<style scoped>\n",
       "    .dataframe tbody tr th:only-of-type {\n",
       "        vertical-align: middle;\n",
       "    }\n",
       "\n",
       "    .dataframe tbody tr th {\n",
       "        vertical-align: top;\n",
       "    }\n",
       "\n",
       "    .dataframe thead th {\n",
       "        text-align: right;\n",
       "    }\n",
       "</style>\n",
       "<table border=\"1\" class=\"dataframe\">\n",
       "  <thead>\n",
       "    <tr style=\"text-align: right;\">\n",
       "      <th></th>\n",
       "      <th>text</th>\n",
       "      <th>label</th>\n",
       "    </tr>\n",
       "  </thead>\n",
       "  <tbody>\n",
       "    <tr>\n",
       "      <th>0</th>\n",
       "      <td>So there is no way for me to plug it in here i...</td>\n",
       "      <td>0</td>\n",
       "    </tr>\n",
       "    <tr>\n",
       "      <th>1</th>\n",
       "      <td>Good case, Excellent value.</td>\n",
       "      <td>1</td>\n",
       "    </tr>\n",
       "    <tr>\n",
       "      <th>2</th>\n",
       "      <td>Great for the jawbone.</td>\n",
       "      <td>1</td>\n",
       "    </tr>\n",
       "    <tr>\n",
       "      <th>3</th>\n",
       "      <td>Tied to charger for conversations lasting more...</td>\n",
       "      <td>0</td>\n",
       "    </tr>\n",
       "    <tr>\n",
       "      <th>4</th>\n",
       "      <td>The mic is great.</td>\n",
       "      <td>1</td>\n",
       "    </tr>\n",
       "  </tbody>\n",
       "</table>\n",
       "</div>"
      ],
      "text/plain": [
       "                                                text  label\n",
       "0  So there is no way for me to plug it in here i...      0\n",
       "1                        Good case, Excellent value.      1\n",
       "2                             Great for the jawbone.      1\n",
       "3  Tied to charger for conversations lasting more...      0\n",
       "4                                  The mic is great.      1"
      ]
     },
     "execution_count": 6,
     "metadata": {},
     "output_type": "execute_result"
    }
   ],
   "source": [
    "columns=['text','label']\n",
    "df1.columns=columns\n",
    "df1.head()"
   ]
  },
  {
   "cell_type": "code",
   "execution_count": 7,
   "id": "a0cda823",
   "metadata": {
    "execution": {
     "iopub.execute_input": "2024-02-17T15:34:33.665073Z",
     "iopub.status.busy": "2024-02-17T15:34:33.664531Z",
     "iopub.status.idle": "2024-02-17T15:34:33.673564Z",
     "shell.execute_reply": "2024-02-17T15:34:33.671963Z"
    },
    "papermill": {
     "duration": 0.02836,
     "end_time": "2024-02-17T15:34:33.676179",
     "exception": false,
     "start_time": "2024-02-17T15:34:33.647819",
     "status": "completed"
    },
    "tags": []
   },
   "outputs": [
    {
     "data": {
      "text/plain": [
       "(1000, 2)"
      ]
     },
     "execution_count": 7,
     "metadata": {},
     "output_type": "execute_result"
    }
   ],
   "source": [
    "df1.shape"
   ]
  },
  {
   "cell_type": "code",
   "execution_count": 8,
   "id": "766bbd49",
   "metadata": {
    "execution": {
     "iopub.execute_input": "2024-02-17T15:34:33.708399Z",
     "iopub.status.busy": "2024-02-17T15:34:33.707878Z",
     "iopub.status.idle": "2024-02-17T15:34:33.721405Z",
     "shell.execute_reply": "2024-02-17T15:34:33.720462Z"
    },
    "papermill": {
     "duration": 0.033061,
     "end_time": "2024-02-17T15:34:33.724107",
     "exception": false,
     "start_time": "2024-02-17T15:34:33.691046",
     "status": "completed"
    },
    "tags": []
   },
   "outputs": [],
   "source": [
    "df2=pd.read_csv('/kaggle/input/sentiment-analysis-project/Sentiment Analysis/imdb_labelled.txt',sep='\\t',header=None)"
   ]
  },
  {
   "cell_type": "code",
   "execution_count": 9,
   "id": "6de69f95",
   "metadata": {
    "execution": {
     "iopub.execute_input": "2024-02-17T15:34:33.756706Z",
     "iopub.status.busy": "2024-02-17T15:34:33.755470Z",
     "iopub.status.idle": "2024-02-17T15:34:33.768237Z",
     "shell.execute_reply": "2024-02-17T15:34:33.767054Z"
    },
    "papermill": {
     "duration": 0.031635,
     "end_time": "2024-02-17T15:34:33.770714",
     "exception": false,
     "start_time": "2024-02-17T15:34:33.739079",
     "status": "completed"
    },
    "tags": []
   },
   "outputs": [
    {
     "data": {
      "text/html": [
       "<div>\n",
       "<style scoped>\n",
       "    .dataframe tbody tr th:only-of-type {\n",
       "        vertical-align: middle;\n",
       "    }\n",
       "\n",
       "    .dataframe tbody tr th {\n",
       "        vertical-align: top;\n",
       "    }\n",
       "\n",
       "    .dataframe thead th {\n",
       "        text-align: right;\n",
       "    }\n",
       "</style>\n",
       "<table border=\"1\" class=\"dataframe\">\n",
       "  <thead>\n",
       "    <tr style=\"text-align: right;\">\n",
       "      <th></th>\n",
       "      <th>text</th>\n",
       "      <th>label</th>\n",
       "    </tr>\n",
       "  </thead>\n",
       "  <tbody>\n",
       "    <tr>\n",
       "      <th>0</th>\n",
       "      <td>A very, very, very slow-moving, aimless movie ...</td>\n",
       "      <td>0</td>\n",
       "    </tr>\n",
       "    <tr>\n",
       "      <th>1</th>\n",
       "      <td>Not sure who was more lost - the flat characte...</td>\n",
       "      <td>0</td>\n",
       "    </tr>\n",
       "    <tr>\n",
       "      <th>2</th>\n",
       "      <td>Attempting artiness with black &amp; white and cle...</td>\n",
       "      <td>0</td>\n",
       "    </tr>\n",
       "    <tr>\n",
       "      <th>3</th>\n",
       "      <td>Very little music or anything to speak of.</td>\n",
       "      <td>0</td>\n",
       "    </tr>\n",
       "    <tr>\n",
       "      <th>4</th>\n",
       "      <td>The best scene in the movie was when Gerardo i...</td>\n",
       "      <td>1</td>\n",
       "    </tr>\n",
       "  </tbody>\n",
       "</table>\n",
       "</div>"
      ],
      "text/plain": [
       "                                                text  label\n",
       "0  A very, very, very slow-moving, aimless movie ...      0\n",
       "1  Not sure who was more lost - the flat characte...      0\n",
       "2  Attempting artiness with black & white and cle...      0\n",
       "3       Very little music or anything to speak of.        0\n",
       "4  The best scene in the movie was when Gerardo i...      1"
      ]
     },
     "execution_count": 9,
     "metadata": {},
     "output_type": "execute_result"
    }
   ],
   "source": [
    "df2.columns=columns\n",
    "df2.head()"
   ]
  },
  {
   "cell_type": "code",
   "execution_count": 10,
   "id": "c313a08d",
   "metadata": {
    "execution": {
     "iopub.execute_input": "2024-02-17T15:34:33.803276Z",
     "iopub.status.busy": "2024-02-17T15:34:33.802072Z",
     "iopub.status.idle": "2024-02-17T15:34:33.809175Z",
     "shell.execute_reply": "2024-02-17T15:34:33.808204Z"
    },
    "papermill": {
     "duration": 0.025537,
     "end_time": "2024-02-17T15:34:33.811295",
     "exception": false,
     "start_time": "2024-02-17T15:34:33.785758",
     "status": "completed"
    },
    "tags": []
   },
   "outputs": [
    {
     "data": {
      "text/plain": [
       "(748, 2)"
      ]
     },
     "execution_count": 10,
     "metadata": {},
     "output_type": "execute_result"
    }
   ],
   "source": [
    "df2.shape"
   ]
  },
  {
   "cell_type": "code",
   "execution_count": 11,
   "id": "c67c1397",
   "metadata": {
    "execution": {
     "iopub.execute_input": "2024-02-17T15:34:33.844018Z",
     "iopub.status.busy": "2024-02-17T15:34:33.843114Z",
     "iopub.status.idle": "2024-02-17T15:34:33.865431Z",
     "shell.execute_reply": "2024-02-17T15:34:33.864043Z"
    },
    "papermill": {
     "duration": 0.042087,
     "end_time": "2024-02-17T15:34:33.868251",
     "exception": false,
     "start_time": "2024-02-17T15:34:33.826164",
     "status": "completed"
    },
    "tags": []
   },
   "outputs": [
    {
     "data": {
      "text/html": [
       "<div>\n",
       "<style scoped>\n",
       "    .dataframe tbody tr th:only-of-type {\n",
       "        vertical-align: middle;\n",
       "    }\n",
       "\n",
       "    .dataframe tbody tr th {\n",
       "        vertical-align: top;\n",
       "    }\n",
       "\n",
       "    .dataframe thead th {\n",
       "        text-align: right;\n",
       "    }\n",
       "</style>\n",
       "<table border=\"1\" class=\"dataframe\">\n",
       "  <thead>\n",
       "    <tr style=\"text-align: right;\">\n",
       "      <th></th>\n",
       "      <th>0</th>\n",
       "      <th>1</th>\n",
       "    </tr>\n",
       "  </thead>\n",
       "  <tbody>\n",
       "    <tr>\n",
       "      <th>0</th>\n",
       "      <td>Wow... Loved this place.</td>\n",
       "      <td>1</td>\n",
       "    </tr>\n",
       "    <tr>\n",
       "      <th>1</th>\n",
       "      <td>Crust is not good.</td>\n",
       "      <td>0</td>\n",
       "    </tr>\n",
       "    <tr>\n",
       "      <th>2</th>\n",
       "      <td>Not tasty and the texture was just nasty.</td>\n",
       "      <td>0</td>\n",
       "    </tr>\n",
       "    <tr>\n",
       "      <th>3</th>\n",
       "      <td>Stopped by during the late May bank holiday of...</td>\n",
       "      <td>1</td>\n",
       "    </tr>\n",
       "    <tr>\n",
       "      <th>4</th>\n",
       "      <td>The selection on the menu was great and so wer...</td>\n",
       "      <td>1</td>\n",
       "    </tr>\n",
       "  </tbody>\n",
       "</table>\n",
       "</div>"
      ],
      "text/plain": [
       "                                                   0  1\n",
       "0                           Wow... Loved this place.  1\n",
       "1                                 Crust is not good.  0\n",
       "2          Not tasty and the texture was just nasty.  0\n",
       "3  Stopped by during the late May bank holiday of...  1\n",
       "4  The selection on the menu was great and so wer...  1"
      ]
     },
     "execution_count": 11,
     "metadata": {},
     "output_type": "execute_result"
    }
   ],
   "source": [
    "df3=pd.read_csv('/kaggle/input/sentiment-analysis-project/Sentiment Analysis/yelp_labelled.txt',sep='\\t',header=None)\n",
    "df3.head()"
   ]
  },
  {
   "cell_type": "code",
   "execution_count": 12,
   "id": "f4ba1950",
   "metadata": {
    "execution": {
     "iopub.execute_input": "2024-02-17T15:34:33.971070Z",
     "iopub.status.busy": "2024-02-17T15:34:33.970653Z",
     "iopub.status.idle": "2024-02-17T15:34:33.978658Z",
     "shell.execute_reply": "2024-02-17T15:34:33.977492Z"
    },
    "papermill": {
     "duration": 0.096694,
     "end_time": "2024-02-17T15:34:33.981013",
     "exception": false,
     "start_time": "2024-02-17T15:34:33.884319",
     "status": "completed"
    },
    "tags": []
   },
   "outputs": [
    {
     "data": {
      "text/plain": [
       "(1000, 2)"
      ]
     },
     "execution_count": 12,
     "metadata": {},
     "output_type": "execute_result"
    }
   ],
   "source": [
    "df3.columns=columns\n",
    "df3.shape"
   ]
  },
  {
   "cell_type": "code",
   "execution_count": 13,
   "id": "7f81eb6a",
   "metadata": {
    "execution": {
     "iopub.execute_input": "2024-02-17T15:34:34.016401Z",
     "iopub.status.busy": "2024-02-17T15:34:34.015212Z",
     "iopub.status.idle": "2024-02-17T15:34:34.027150Z",
     "shell.execute_reply": "2024-02-17T15:34:34.025926Z"
    },
    "papermill": {
     "duration": 0.033245,
     "end_time": "2024-02-17T15:34:34.029700",
     "exception": false,
     "start_time": "2024-02-17T15:34:33.996455",
     "status": "completed"
    },
    "tags": []
   },
   "outputs": [],
   "source": [
    "df=pd.concat([df1,df2,df3],ignore_index=True)"
   ]
  },
  {
   "cell_type": "code",
   "execution_count": 14,
   "id": "e5a81972",
   "metadata": {
    "execution": {
     "iopub.execute_input": "2024-02-17T15:34:34.063351Z",
     "iopub.status.busy": "2024-02-17T15:34:34.062744Z",
     "iopub.status.idle": "2024-02-17T15:34:34.069586Z",
     "shell.execute_reply": "2024-02-17T15:34:34.068509Z"
    },
    "papermill": {
     "duration": 0.026436,
     "end_time": "2024-02-17T15:34:34.071924",
     "exception": false,
     "start_time": "2024-02-17T15:34:34.045488",
     "status": "completed"
    },
    "tags": []
   },
   "outputs": [
    {
     "data": {
      "text/plain": [
       "(2748, 2)"
      ]
     },
     "execution_count": 14,
     "metadata": {},
     "output_type": "execute_result"
    }
   ],
   "source": [
    "df.shape"
   ]
  },
  {
   "cell_type": "code",
   "execution_count": 15,
   "id": "db0cfe4f",
   "metadata": {
    "execution": {
     "iopub.execute_input": "2024-02-17T15:34:34.106710Z",
     "iopub.status.busy": "2024-02-17T15:34:34.106046Z",
     "iopub.status.idle": "2024-02-17T15:34:34.126111Z",
     "shell.execute_reply": "2024-02-17T15:34:34.124429Z"
    },
    "papermill": {
     "duration": 0.040459,
     "end_time": "2024-02-17T15:34:34.128861",
     "exception": false,
     "start_time": "2024-02-17T15:34:34.088402",
     "status": "completed"
    },
    "tags": []
   },
   "outputs": [
    {
     "data": {
      "text/html": [
       "<div>\n",
       "<style scoped>\n",
       "    .dataframe tbody tr th:only-of-type {\n",
       "        vertical-align: middle;\n",
       "    }\n",
       "\n",
       "    .dataframe tbody tr th {\n",
       "        vertical-align: top;\n",
       "    }\n",
       "\n",
       "    .dataframe thead th {\n",
       "        text-align: right;\n",
       "    }\n",
       "</style>\n",
       "<table border=\"1\" class=\"dataframe\">\n",
       "  <thead>\n",
       "    <tr style=\"text-align: right;\">\n",
       "      <th></th>\n",
       "      <th>text</th>\n",
       "      <th>label</th>\n",
       "    </tr>\n",
       "  </thead>\n",
       "  <tbody>\n",
       "    <tr>\n",
       "      <th>1829</th>\n",
       "      <td>walked in and the place smelled like an old gr...</td>\n",
       "      <td>0</td>\n",
       "    </tr>\n",
       "    <tr>\n",
       "      <th>1125</th>\n",
       "      <td>If this premise sound stupid, that's because i...</td>\n",
       "      <td>0</td>\n",
       "    </tr>\n",
       "    <tr>\n",
       "      <th>56</th>\n",
       "      <td>VERY DISAPPOINTED.</td>\n",
       "      <td>0</td>\n",
       "    </tr>\n",
       "    <tr>\n",
       "      <th>1361</th>\n",
       "      <td>The best example of how dumb the writing is wh...</td>\n",
       "      <td>0</td>\n",
       "    </tr>\n",
       "    <tr>\n",
       "      <th>1768</th>\n",
       "      <td>The Burrittos Blah!</td>\n",
       "      <td>0</td>\n",
       "    </tr>\n",
       "  </tbody>\n",
       "</table>\n",
       "</div>"
      ],
      "text/plain": [
       "                                                   text  label\n",
       "1829  walked in and the place smelled like an old gr...      0\n",
       "1125  If this premise sound stupid, that's because i...      0\n",
       "56                                   VERY DISAPPOINTED.      0\n",
       "1361  The best example of how dumb the writing is wh...      0\n",
       "1768                                The Burrittos Blah!      0"
      ]
     },
     "execution_count": 15,
     "metadata": {},
     "output_type": "execute_result"
    }
   ],
   "source": [
    "df.sample(5)"
   ]
  },
  {
   "cell_type": "code",
   "execution_count": 16,
   "id": "939cd697",
   "metadata": {
    "execution": {
     "iopub.execute_input": "2024-02-17T15:34:34.164425Z",
     "iopub.status.busy": "2024-02-17T15:34:34.163932Z",
     "iopub.status.idle": "2024-02-17T15:34:34.180021Z",
     "shell.execute_reply": "2024-02-17T15:34:34.178683Z"
    },
    "papermill": {
     "duration": 0.037289,
     "end_time": "2024-02-17T15:34:34.182583",
     "exception": false,
     "start_time": "2024-02-17T15:34:34.145294",
     "status": "completed"
    },
    "tags": []
   },
   "outputs": [
    {
     "data": {
      "text/plain": [
       "label\n",
       "1    1386\n",
       "0    1362\n",
       "Name: count, dtype: int64"
      ]
     },
     "execution_count": 16,
     "metadata": {},
     "output_type": "execute_result"
    }
   ],
   "source": [
    "df.label.value_counts()"
   ]
  },
  {
   "cell_type": "code",
   "execution_count": 17,
   "id": "116c16f3",
   "metadata": {
    "execution": {
     "iopub.execute_input": "2024-02-17T15:34:34.217056Z",
     "iopub.status.busy": "2024-02-17T15:34:34.216522Z",
     "iopub.status.idle": "2024-02-17T15:34:34.227007Z",
     "shell.execute_reply": "2024-02-17T15:34:34.226020Z"
    },
    "papermill": {
     "duration": 0.030325,
     "end_time": "2024-02-17T15:34:34.229249",
     "exception": false,
     "start_time": "2024-02-17T15:34:34.198924",
     "status": "completed"
    },
    "tags": []
   },
   "outputs": [
    {
     "data": {
      "text/plain": [
       "text     0\n",
       "label    0\n",
       "dtype: int64"
      ]
     },
     "execution_count": 17,
     "metadata": {},
     "output_type": "execute_result"
    }
   ],
   "source": [
    "df.isnull().sum()"
   ]
  },
  {
   "cell_type": "code",
   "execution_count": 18,
   "id": "3d7d1a81",
   "metadata": {
    "execution": {
     "iopub.execute_input": "2024-02-17T15:34:34.267076Z",
     "iopub.status.busy": "2024-02-17T15:34:34.265389Z",
     "iopub.status.idle": "2024-02-17T15:34:34.274234Z",
     "shell.execute_reply": "2024-02-17T15:34:34.272648Z"
    },
    "papermill": {
     "duration": 0.029726,
     "end_time": "2024-02-17T15:34:34.276908",
     "exception": false,
     "start_time": "2024-02-17T15:34:34.247182",
     "status": "completed"
    },
    "tags": []
   },
   "outputs": [],
   "source": [
    "def preprocess(text):\n",
    "    doc=nlp(text)\n",
    "    filtered_words=[]\n",
    "    for i in doc:\n",
    "        if i.is_stop or i.is_punct:\n",
    "            continue\n",
    "        filtered_words.append(i.lemma_)\n",
    "    return \" \".join(filtered_words)\n",
    "    "
   ]
  },
  {
   "cell_type": "code",
   "execution_count": 19,
   "id": "f0a62f4f",
   "metadata": {
    "execution": {
     "iopub.execute_input": "2024-02-17T15:34:34.312192Z",
     "iopub.status.busy": "2024-02-17T15:34:34.311375Z",
     "iopub.status.idle": "2024-02-17T15:34:34.361274Z",
     "shell.execute_reply": "2024-02-17T15:34:34.359786Z"
    },
    "papermill": {
     "duration": 0.070525,
     "end_time": "2024-02-17T15:34:34.364057",
     "exception": false,
     "start_time": "2024-02-17T15:34:34.293532",
     "status": "completed"
    },
    "tags": []
   },
   "outputs": [
    {
     "data": {
      "text/plain": [
       "'today have heavy rainfall recommend stay home safe start run'"
      ]
     },
     "execution_count": 19,
     "metadata": {},
     "output_type": "execute_result"
    }
   ],
   "source": [
    "preprocess(\"Today we are having heavy rainfall, We recommend you to stay at your home and be safe, Do not start running here and there\")"
   ]
  },
  {
   "cell_type": "code",
   "execution_count": 20,
   "id": "3e5b3869",
   "metadata": {
    "execution": {
     "iopub.execute_input": "2024-02-17T15:34:34.399264Z",
     "iopub.status.busy": "2024-02-17T15:34:34.398846Z",
     "iopub.status.idle": "2024-02-17T15:35:07.797985Z",
     "shell.execute_reply": "2024-02-17T15:35:07.796391Z"
    },
    "papermill": {
     "duration": 33.420619,
     "end_time": "2024-02-17T15:35:07.801365",
     "exception": false,
     "start_time": "2024-02-17T15:34:34.380746",
     "status": "completed"
    },
    "tags": []
   },
   "outputs": [],
   "source": [
    "df['preprocessed_text']=df['text'].apply(preprocess)"
   ]
  },
  {
   "cell_type": "code",
   "execution_count": 21,
   "id": "4ad8be3f",
   "metadata": {
    "execution": {
     "iopub.execute_input": "2024-02-17T15:35:07.838251Z",
     "iopub.status.busy": "2024-02-17T15:35:07.836660Z",
     "iopub.status.idle": "2024-02-17T15:35:07.854270Z",
     "shell.execute_reply": "2024-02-17T15:35:07.852880Z"
    },
    "papermill": {
     "duration": 0.039229,
     "end_time": "2024-02-17T15:35:07.857679",
     "exception": false,
     "start_time": "2024-02-17T15:35:07.818450",
     "status": "completed"
    },
    "tags": []
   },
   "outputs": [
    {
     "data": {
      "text/html": [
       "<div>\n",
       "<style scoped>\n",
       "    .dataframe tbody tr th:only-of-type {\n",
       "        vertical-align: middle;\n",
       "    }\n",
       "\n",
       "    .dataframe tbody tr th {\n",
       "        vertical-align: top;\n",
       "    }\n",
       "\n",
       "    .dataframe thead th {\n",
       "        text-align: right;\n",
       "    }\n",
       "</style>\n",
       "<table border=\"1\" class=\"dataframe\">\n",
       "  <thead>\n",
       "    <tr style=\"text-align: right;\">\n",
       "      <th></th>\n",
       "      <th>text</th>\n",
       "      <th>label</th>\n",
       "      <th>preprocessed_text</th>\n",
       "    </tr>\n",
       "  </thead>\n",
       "  <tbody>\n",
       "    <tr>\n",
       "      <th>0</th>\n",
       "      <td>So there is no way for me to plug it in here i...</td>\n",
       "      <td>0</td>\n",
       "      <td>way plug converter</td>\n",
       "    </tr>\n",
       "    <tr>\n",
       "      <th>1</th>\n",
       "      <td>Good case, Excellent value.</td>\n",
       "      <td>1</td>\n",
       "      <td>good case excellent value</td>\n",
       "    </tr>\n",
       "    <tr>\n",
       "      <th>2</th>\n",
       "      <td>Great for the jawbone.</td>\n",
       "      <td>1</td>\n",
       "      <td>great jawbone</td>\n",
       "    </tr>\n",
       "    <tr>\n",
       "      <th>3</th>\n",
       "      <td>Tied to charger for conversations lasting more...</td>\n",
       "      <td>0</td>\n",
       "      <td>tie charger conversation last 45 minute MAJOR ...</td>\n",
       "    </tr>\n",
       "    <tr>\n",
       "      <th>4</th>\n",
       "      <td>The mic is great.</td>\n",
       "      <td>1</td>\n",
       "      <td>mic great</td>\n",
       "    </tr>\n",
       "  </tbody>\n",
       "</table>\n",
       "</div>"
      ],
      "text/plain": [
       "                                                text  label  \\\n",
       "0  So there is no way for me to plug it in here i...      0   \n",
       "1                        Good case, Excellent value.      1   \n",
       "2                             Great for the jawbone.      1   \n",
       "3  Tied to charger for conversations lasting more...      0   \n",
       "4                                  The mic is great.      1   \n",
       "\n",
       "                                   preprocessed_text  \n",
       "0                                 way plug converter  \n",
       "1                          good case excellent value  \n",
       "2                                      great jawbone  \n",
       "3  tie charger conversation last 45 minute MAJOR ...  \n",
       "4                                          mic great  "
      ]
     },
     "execution_count": 21,
     "metadata": {},
     "output_type": "execute_result"
    }
   ],
   "source": [
    "df.head()"
   ]
  },
  {
   "cell_type": "code",
   "execution_count": 22,
   "id": "0d378b39",
   "metadata": {
    "execution": {
     "iopub.execute_input": "2024-02-17T15:35:07.897883Z",
     "iopub.status.busy": "2024-02-17T15:35:07.896491Z",
     "iopub.status.idle": "2024-02-17T15:35:10.138814Z",
     "shell.execute_reply": "2024-02-17T15:35:10.137412Z"
    },
    "papermill": {
     "duration": 2.266364,
     "end_time": "2024-02-17T15:35:10.142378",
     "exception": false,
     "start_time": "2024-02-17T15:35:07.876014",
     "status": "completed"
    },
    "tags": []
   },
   "outputs": [],
   "source": [
    "from sklearn.model_selection import train_test_split\n",
    "from sklearn.pipeline import Pipeline\n",
    "from sklearn.feature_extraction.text import CountVectorizer,TfidfVectorizer\n",
    "from sklearn.naive_bayes import MultinomialNB\n",
    "from sklearn.svm import LinearSVC\n",
    "from sklearn.metrics import classification_report,confusion_matrix"
   ]
  },
  {
   "cell_type": "markdown",
   "id": "ddcbc1d2",
   "metadata": {
    "papermill": {
     "duration": 0.017357,
     "end_time": "2024-02-17T15:35:10.179411",
     "exception": false,
     "start_time": "2024-02-17T15:35:10.162054",
     "status": "completed"
    },
    "tags": []
   },
   "source": []
  },
  {
   "cell_type": "code",
   "execution_count": 23,
   "id": "826219e3",
   "metadata": {
    "execution": {
     "iopub.execute_input": "2024-02-17T15:35:10.220636Z",
     "iopub.status.busy": "2024-02-17T15:35:10.219812Z",
     "iopub.status.idle": "2024-02-17T15:35:10.228616Z",
     "shell.execute_reply": "2024-02-17T15:35:10.227803Z"
    },
    "papermill": {
     "duration": 0.033877,
     "end_time": "2024-02-17T15:35:10.231353",
     "exception": false,
     "start_time": "2024-02-17T15:35:10.197476",
     "status": "completed"
    },
    "tags": []
   },
   "outputs": [],
   "source": [
    "x_train,x_test,y_train,y_test=train_test_split(df.preprocessed_text,df.label,test_size=0.2,random_state=1000,stratify=df.label)"
   ]
  },
  {
   "cell_type": "code",
   "execution_count": 24,
   "id": "464cb03d",
   "metadata": {
    "execution": {
     "iopub.execute_input": "2024-02-17T15:35:10.272060Z",
     "iopub.status.busy": "2024-02-17T15:35:10.271626Z",
     "iopub.status.idle": "2024-02-17T15:35:10.277541Z",
     "shell.execute_reply": "2024-02-17T15:35:10.276384Z"
    },
    "papermill": {
     "duration": 0.030685,
     "end_time": "2024-02-17T15:35:10.280336",
     "exception": false,
     "start_time": "2024-02-17T15:35:10.249651",
     "status": "completed"
    },
    "tags": []
   },
   "outputs": [],
   "source": [
    "clf1=Pipeline([\n",
    "    ('vectorizer',CountVectorizer(ngram_range=(1,1))),\n",
    "    ('nb',MultinomialNB())\n",
    "])"
   ]
  },
  {
   "cell_type": "code",
   "execution_count": 25,
   "id": "6d9217bb",
   "metadata": {
    "execution": {
     "iopub.execute_input": "2024-02-17T15:35:10.319274Z",
     "iopub.status.busy": "2024-02-17T15:35:10.318292Z",
     "iopub.status.idle": "2024-02-17T15:35:10.383367Z",
     "shell.execute_reply": "2024-02-17T15:35:10.381890Z"
    },
    "papermill": {
     "duration": 0.087736,
     "end_time": "2024-02-17T15:35:10.387096",
     "exception": false,
     "start_time": "2024-02-17T15:35:10.299360",
     "status": "completed"
    },
    "tags": []
   },
   "outputs": [
    {
     "data": {
      "text/html": [
       "<style>#sk-container-id-1 {color: black;background-color: white;}#sk-container-id-1 pre{padding: 0;}#sk-container-id-1 div.sk-toggleable {background-color: white;}#sk-container-id-1 label.sk-toggleable__label {cursor: pointer;display: block;width: 100%;margin-bottom: 0;padding: 0.3em;box-sizing: border-box;text-align: center;}#sk-container-id-1 label.sk-toggleable__label-arrow:before {content: \"▸\";float: left;margin-right: 0.25em;color: #696969;}#sk-container-id-1 label.sk-toggleable__label-arrow:hover:before {color: black;}#sk-container-id-1 div.sk-estimator:hover label.sk-toggleable__label-arrow:before {color: black;}#sk-container-id-1 div.sk-toggleable__content {max-height: 0;max-width: 0;overflow: hidden;text-align: left;background-color: #f0f8ff;}#sk-container-id-1 div.sk-toggleable__content pre {margin: 0.2em;color: black;border-radius: 0.25em;background-color: #f0f8ff;}#sk-container-id-1 input.sk-toggleable__control:checked~div.sk-toggleable__content {max-height: 200px;max-width: 100%;overflow: auto;}#sk-container-id-1 input.sk-toggleable__control:checked~label.sk-toggleable__label-arrow:before {content: \"▾\";}#sk-container-id-1 div.sk-estimator input.sk-toggleable__control:checked~label.sk-toggleable__label {background-color: #d4ebff;}#sk-container-id-1 div.sk-label input.sk-toggleable__control:checked~label.sk-toggleable__label {background-color: #d4ebff;}#sk-container-id-1 input.sk-hidden--visually {border: 0;clip: rect(1px 1px 1px 1px);clip: rect(1px, 1px, 1px, 1px);height: 1px;margin: -1px;overflow: hidden;padding: 0;position: absolute;width: 1px;}#sk-container-id-1 div.sk-estimator {font-family: monospace;background-color: #f0f8ff;border: 1px dotted black;border-radius: 0.25em;box-sizing: border-box;margin-bottom: 0.5em;}#sk-container-id-1 div.sk-estimator:hover {background-color: #d4ebff;}#sk-container-id-1 div.sk-parallel-item::after {content: \"\";width: 100%;border-bottom: 1px solid gray;flex-grow: 1;}#sk-container-id-1 div.sk-label:hover label.sk-toggleable__label {background-color: #d4ebff;}#sk-container-id-1 div.sk-serial::before {content: \"\";position: absolute;border-left: 1px solid gray;box-sizing: border-box;top: 0;bottom: 0;left: 50%;z-index: 0;}#sk-container-id-1 div.sk-serial {display: flex;flex-direction: column;align-items: center;background-color: white;padding-right: 0.2em;padding-left: 0.2em;position: relative;}#sk-container-id-1 div.sk-item {position: relative;z-index: 1;}#sk-container-id-1 div.sk-parallel {display: flex;align-items: stretch;justify-content: center;background-color: white;position: relative;}#sk-container-id-1 div.sk-item::before, #sk-container-id-1 div.sk-parallel-item::before {content: \"\";position: absolute;border-left: 1px solid gray;box-sizing: border-box;top: 0;bottom: 0;left: 50%;z-index: -1;}#sk-container-id-1 div.sk-parallel-item {display: flex;flex-direction: column;z-index: 1;position: relative;background-color: white;}#sk-container-id-1 div.sk-parallel-item:first-child::after {align-self: flex-end;width: 50%;}#sk-container-id-1 div.sk-parallel-item:last-child::after {align-self: flex-start;width: 50%;}#sk-container-id-1 div.sk-parallel-item:only-child::after {width: 0;}#sk-container-id-1 div.sk-dashed-wrapped {border: 1px dashed gray;margin: 0 0.4em 0.5em 0.4em;box-sizing: border-box;padding-bottom: 0.4em;background-color: white;}#sk-container-id-1 div.sk-label label {font-family: monospace;font-weight: bold;display: inline-block;line-height: 1.2em;}#sk-container-id-1 div.sk-label-container {text-align: center;}#sk-container-id-1 div.sk-container {/* jupyter's `normalize.less` sets `[hidden] { display: none; }` but bootstrap.min.css set `[hidden] { display: none !important; }` so we also need the `!important` here to be able to override the default hidden behavior on the sphinx rendered scikit-learn.org. See: https://github.com/scikit-learn/scikit-learn/issues/21755 */display: inline-block !important;position: relative;}#sk-container-id-1 div.sk-text-repr-fallback {display: none;}</style><div id=\"sk-container-id-1\" class=\"sk-top-container\"><div class=\"sk-text-repr-fallback\"><pre>Pipeline(steps=[(&#x27;vectorizer&#x27;, CountVectorizer()), (&#x27;nb&#x27;, MultinomialNB())])</pre><b>In a Jupyter environment, please rerun this cell to show the HTML representation or trust the notebook. <br />On GitHub, the HTML representation is unable to render, please try loading this page with nbviewer.org.</b></div><div class=\"sk-container\" hidden><div class=\"sk-item sk-dashed-wrapped\"><div class=\"sk-label-container\"><div class=\"sk-label sk-toggleable\"><input class=\"sk-toggleable__control sk-hidden--visually\" id=\"sk-estimator-id-1\" type=\"checkbox\" ><label for=\"sk-estimator-id-1\" class=\"sk-toggleable__label sk-toggleable__label-arrow\">Pipeline</label><div class=\"sk-toggleable__content\"><pre>Pipeline(steps=[(&#x27;vectorizer&#x27;, CountVectorizer()), (&#x27;nb&#x27;, MultinomialNB())])</pre></div></div></div><div class=\"sk-serial\"><div class=\"sk-item\"><div class=\"sk-estimator sk-toggleable\"><input class=\"sk-toggleable__control sk-hidden--visually\" id=\"sk-estimator-id-2\" type=\"checkbox\" ><label for=\"sk-estimator-id-2\" class=\"sk-toggleable__label sk-toggleable__label-arrow\">CountVectorizer</label><div class=\"sk-toggleable__content\"><pre>CountVectorizer()</pre></div></div></div><div class=\"sk-item\"><div class=\"sk-estimator sk-toggleable\"><input class=\"sk-toggleable__control sk-hidden--visually\" id=\"sk-estimator-id-3\" type=\"checkbox\" ><label for=\"sk-estimator-id-3\" class=\"sk-toggleable__label sk-toggleable__label-arrow\">MultinomialNB</label><div class=\"sk-toggleable__content\"><pre>MultinomialNB()</pre></div></div></div></div></div></div></div>"
      ],
      "text/plain": [
       "Pipeline(steps=[('vectorizer', CountVectorizer()), ('nb', MultinomialNB())])"
      ]
     },
     "execution_count": 25,
     "metadata": {},
     "output_type": "execute_result"
    }
   ],
   "source": [
    "clf1.fit(x_train,y_train)"
   ]
  },
  {
   "cell_type": "code",
   "execution_count": 26,
   "id": "4d7dd0be",
   "metadata": {
    "execution": {
     "iopub.execute_input": "2024-02-17T15:35:10.427408Z",
     "iopub.status.busy": "2024-02-17T15:35:10.426921Z",
     "iopub.status.idle": "2024-02-17T15:35:10.443583Z",
     "shell.execute_reply": "2024-02-17T15:35:10.442270Z"
    },
    "papermill": {
     "duration": 0.041194,
     "end_time": "2024-02-17T15:35:10.447036",
     "exception": false,
     "start_time": "2024-02-17T15:35:10.405842",
     "status": "completed"
    },
    "tags": []
   },
   "outputs": [],
   "source": [
    "y_pred=clf1.predict(x_test)"
   ]
  },
  {
   "cell_type": "code",
   "execution_count": 27,
   "id": "48ffbbab",
   "metadata": {
    "execution": {
     "iopub.execute_input": "2024-02-17T15:35:10.486459Z",
     "iopub.status.busy": "2024-02-17T15:35:10.485983Z",
     "iopub.status.idle": "2024-02-17T15:35:10.503475Z",
     "shell.execute_reply": "2024-02-17T15:35:10.502312Z"
    },
    "papermill": {
     "duration": 0.0398,
     "end_time": "2024-02-17T15:35:10.505843",
     "exception": false,
     "start_time": "2024-02-17T15:35:10.466043",
     "status": "completed"
    },
    "tags": []
   },
   "outputs": [
    {
     "name": "stdout",
     "output_type": "stream",
     "text": [
      "              precision    recall  f1-score   support\n",
      "\n",
      "           0       0.82      0.76      0.79       273\n",
      "           1       0.78      0.84      0.81       277\n",
      "\n",
      "    accuracy                           0.80       550\n",
      "   macro avg       0.80      0.80      0.80       550\n",
      "weighted avg       0.80      0.80      0.80       550\n",
      "\n"
     ]
    }
   ],
   "source": [
    "print(classification_report(y_test,y_pred))"
   ]
  },
  {
   "cell_type": "code",
   "execution_count": 28,
   "id": "59e14f08",
   "metadata": {
    "execution": {
     "iopub.execute_input": "2024-02-17T15:35:10.542870Z",
     "iopub.status.busy": "2024-02-17T15:35:10.542368Z",
     "iopub.status.idle": "2024-02-17T15:35:10.562795Z",
     "shell.execute_reply": "2024-02-17T15:35:10.561475Z"
    },
    "papermill": {
     "duration": 0.042531,
     "end_time": "2024-02-17T15:35:10.565585",
     "exception": false,
     "start_time": "2024-02-17T15:35:10.523054",
     "status": "completed"
    },
    "tags": []
   },
   "outputs": [
    {
     "data": {
      "text/plain": [
       "0.8"
      ]
     },
     "execution_count": 28,
     "metadata": {},
     "output_type": "execute_result"
    }
   ],
   "source": [
    "clf1.score(x_test,y_test)"
   ]
  },
  {
   "cell_type": "code",
   "execution_count": 29,
   "id": "9d8ea436",
   "metadata": {
    "execution": {
     "iopub.execute_input": "2024-02-17T15:35:10.603322Z",
     "iopub.status.busy": "2024-02-17T15:35:10.602849Z",
     "iopub.status.idle": "2024-02-17T15:35:11.445134Z",
     "shell.execute_reply": "2024-02-17T15:35:11.443709Z"
    },
    "papermill": {
     "duration": 0.864835,
     "end_time": "2024-02-17T15:35:11.447867",
     "exception": false,
     "start_time": "2024-02-17T15:35:10.583032",
     "status": "completed"
    },
    "tags": []
   },
   "outputs": [
    {
     "data": {
      "text/plain": [
       "<Axes: >"
      ]
     },
     "execution_count": 29,
     "metadata": {},
     "output_type": "execute_result"
    },
    {
     "data": {
      "image/png": "[encoded data removed]",
      "text/plain": [
       "<Figure size 640x480 with 2 Axes>"
      ]
     },
     "metadata": {},
     "output_type": "display_data"
    }
   ],
   "source": [
    "import matplotlib.pyplot as plt\n",
    "import seaborn as sns\n",
    "cm=confusion_matrix(y_test,y_pred)\n",
    "sns.heatmap(cm,annot=True,fmt='d')"
   ]
  },
  {
   "cell_type": "code",
   "execution_count": 30,
   "id": "9584ee07",
   "metadata": {
    "execution": {
     "iopub.execute_input": "2024-02-17T15:35:11.486388Z",
     "iopub.status.busy": "2024-02-17T15:35:11.485573Z",
     "iopub.status.idle": "2024-02-17T15:35:11.566865Z",
     "shell.execute_reply": "2024-02-17T15:35:11.564563Z"
    },
    "papermill": {
     "duration": 0.104114,
     "end_time": "2024-02-17T15:35:11.569899",
     "exception": false,
     "start_time": "2024-02-17T15:35:11.465785",
     "status": "completed"
    },
    "tags": []
   },
   "outputs": [
    {
     "name": "stdout",
     "output_type": "stream",
     "text": [
      "              precision    recall  f1-score   support\n",
      "\n",
      "           0       0.83      0.74      0.78       273\n",
      "           1       0.77      0.86      0.81       277\n",
      "\n",
      "    accuracy                           0.80       550\n",
      "   macro avg       0.80      0.80      0.80       550\n",
      "weighted avg       0.80      0.80      0.80       550\n",
      "\n"
     ]
    }
   ],
   "source": [
    "clf2=Pipeline([\n",
    "    ('vectorizer',TfidfVectorizer()),\n",
    "    ('nb',MultinomialNB())\n",
    "])\n",
    "clf2.fit(x_train,y_train)\n",
    "y_pred=clf2.predict(x_test)\n",
    "print(classification_report(y_test,y_pred))"
   ]
  },
  {
   "cell_type": "code",
   "execution_count": 31,
   "id": "a0e7c7f2",
   "metadata": {
    "execution": {
     "iopub.execute_input": "2024-02-17T15:35:11.608821Z",
     "iopub.status.busy": "2024-02-17T15:35:11.608284Z",
     "iopub.status.idle": "2024-02-17T15:35:11.989955Z",
     "shell.execute_reply": "2024-02-17T15:35:11.988270Z"
    },
    "papermill": {
     "duration": 0.404411,
     "end_time": "2024-02-17T15:35:11.992769",
     "exception": false,
     "start_time": "2024-02-17T15:35:11.588358",
     "status": "completed"
    },
    "tags": []
   },
   "outputs": [
    {
     "data": {
      "text/plain": [
       "<Axes: >"
      ]
     },
     "execution_count": 31,
     "metadata": {},
     "output_type": "execute_result"
    },
    {
     "data": {
      "image/png": "[encoded data removed]",
      "text/plain": [
       "<Figure size 640x480 with 2 Axes>"
      ]
     },
     "metadata": {},
     "output_type": "display_data"
    }
   ],
   "source": [
    "import matplotlib.pyplot as plt\n",
    "import seaborn as sns\n",
    "cm1=confusion_matrix(y_test,y_pred)\n",
    "sns.heatmap(cm1,annot=True,fmt='d')"
   ]
  },
  {
   "cell_type": "code",
   "execution_count": 32,
   "id": "0ad4bb6b",
   "metadata": {
    "execution": {
     "iopub.execute_input": "2024-02-17T15:35:12.032460Z",
     "iopub.status.busy": "2024-02-17T15:35:12.031981Z",
     "iopub.status.idle": "2024-02-17T15:35:12.115663Z",
     "shell.execute_reply": "2024-02-17T15:35:12.113970Z"
    },
    "papermill": {
     "duration": 0.106852,
     "end_time": "2024-02-17T15:35:12.118109",
     "exception": false,
     "start_time": "2024-02-17T15:35:12.011257",
     "status": "completed"
    },
    "tags": []
   },
   "outputs": [
    {
     "name": "stdout",
     "output_type": "stream",
     "text": [
      "              precision    recall  f1-score   support\n",
      "\n",
      "           0       0.76      0.81      0.78       273\n",
      "           1       0.80      0.74      0.77       277\n",
      "\n",
      "    accuracy                           0.78       550\n",
      "   macro avg       0.78      0.78      0.78       550\n",
      "weighted avg       0.78      0.78      0.78       550\n",
      "\n"
     ]
    }
   ],
   "source": [
    "clf3=Pipeline([\n",
    "    ('vectorizer',CountVectorizer(ngram_range=(1,1))),\n",
    "    ('svc',LinearSVC())\n",
    "])\n",
    "clf3.fit(x_train,y_train)\n",
    "y_pred=clf3.predict(x_test)\n",
    "print(classification_report(y_test,y_pred))"
   ]
  },
  {
   "cell_type": "code",
   "execution_count": 33,
   "id": "9521a078",
   "metadata": {
    "execution": {
     "iopub.execute_input": "2024-02-17T15:35:12.159688Z",
     "iopub.status.busy": "2024-02-17T15:35:12.158414Z",
     "iopub.status.idle": "2024-02-17T15:35:12.551253Z",
     "shell.execute_reply": "2024-02-17T15:35:12.549912Z"
    },
    "papermill": {
     "duration": 0.417122,
     "end_time": "2024-02-17T15:35:12.554495",
     "exception": false,
     "start_time": "2024-02-17T15:35:12.137373",
     "status": "completed"
    },
    "tags": []
   },
   "outputs": [
    {
     "data": {
      "text/plain": [
       "<Axes: >"
      ]
     },
     "execution_count": 33,
     "metadata": {},
     "output_type": "execute_result"
    },
    {
     "data": {
      "image/png": "[encoded data removed]",
      "text/plain": [
       "<Figure size 640x480 with 2 Axes>"
      ]
     },
     "metadata": {},
     "output_type": "display_data"
    }
   ],
   "source": [
    "import matplotlib.pyplot as plt\n",
    "import seaborn as sns\n",
    "cm3=confusion_matrix(y_test,y_pred)\n",
    "sns.heatmap(cm3,annot=True,fmt='d')"
   ]
  },
  {
   "cell_type": "code",
   "execution_count": 34,
   "id": "1ef2c7d8",
   "metadata": {
    "execution": {
     "iopub.execute_input": "2024-02-17T15:35:12.596424Z",
     "iopub.status.busy": "2024-02-17T15:35:12.596003Z",
     "iopub.status.idle": "2024-02-17T15:35:12.674432Z",
     "shell.execute_reply": "2024-02-17T15:35:12.672450Z"
    },
    "papermill": {
     "duration": 0.102655,
     "end_time": "2024-02-17T15:35:12.677479",
     "exception": false,
     "start_time": "2024-02-17T15:35:12.574824",
     "status": "completed"
    },
    "tags": []
   },
   "outputs": [
    {
     "name": "stdout",
     "output_type": "stream",
     "text": [
      "              precision    recall  f1-score   support\n",
      "\n",
      "           0       0.76      0.80      0.78       273\n",
      "           1       0.79      0.75      0.77       277\n",
      "\n",
      "    accuracy                           0.78       550\n",
      "   macro avg       0.78      0.78      0.78       550\n",
      "weighted avg       0.78      0.78      0.78       550\n",
      "\n"
     ]
    }
   ],
   "source": [
    "clf4=Pipeline([\n",
    "    ('vectorizer',TfidfVectorizer()),\n",
    "    ('svc',LinearSVC())\n",
    "])\n",
    "clf4.fit(x_train,y_train)\n",
    "y_pred=clf4.predict(x_test)\n",
    "print(classification_report(y_test,y_pred))"
   ]
  },
  {
   "cell_type": "code",
   "execution_count": 35,
   "id": "aba3e171",
   "metadata": {
    "execution": {
     "iopub.execute_input": "2024-02-17T15:35:12.719339Z",
     "iopub.status.busy": "2024-02-17T15:35:12.718916Z",
     "iopub.status.idle": "2024-02-17T15:35:13.101858Z",
     "shell.execute_reply": "2024-02-17T15:35:13.100466Z"
    },
    "papermill": {
     "duration": 0.407413,
     "end_time": "2024-02-17T15:35:13.104725",
     "exception": false,
     "start_time": "2024-02-17T15:35:12.697312",
     "status": "completed"
    },
    "tags": []
   },
   "outputs": [
    {
     "data": {
      "text/plain": [
       "<Axes: >"
      ]
     },
     "execution_count": 35,
     "metadata": {},
     "output_type": "execute_result"
    },
    {
     "data": {
      "image/png": "[encoded data removed]",
      "text/plain": [
       "<Figure size 640x480 with 2 Axes>"
      ]
     },
     "metadata": {},
     "output_type": "display_data"
    }
   ],
   "source": [
    "import matplotlib.pyplot as plt\n",
    "import seaborn as sns\n",
    "cm4=confusion_matrix(y_test,y_pred)\n",
    "sns.heatmap(cm4,annot=True,fmt='d')"
   ]
  },
  {
   "cell_type": "code",
   "execution_count": 36,
   "id": "9e093943",
   "metadata": {
    "execution": {
     "iopub.execute_input": "2024-02-17T15:35:13.147865Z",
     "iopub.status.busy": "2024-02-17T15:35:13.147294Z",
     "iopub.status.idle": "2024-02-17T15:35:13.158510Z",
     "shell.execute_reply": "2024-02-17T15:35:13.156744Z"
    },
    "papermill": {
     "duration": 0.036781,
     "end_time": "2024-02-17T15:35:13.161429",
     "exception": false,
     "start_time": "2024-02-17T15:35:13.124648",
     "status": "completed"
    },
    "tags": []
   },
   "outputs": [
    {
     "data": {
      "text/plain": [
       "array([1])"
      ]
     },
     "execution_count": 36,
     "metadata": {},
     "output_type": "execute_result"
    }
   ],
   "source": [
    "clf1.predict([\"Wow you are an amazing person\"])"
   ]
  },
  {
   "cell_type": "code",
   "execution_count": 37,
   "id": "2cb0fce5",
   "metadata": {
    "execution": {
     "iopub.execute_input": "2024-02-17T15:35:13.203828Z",
     "iopub.status.busy": "2024-02-17T15:35:13.203371Z",
     "iopub.status.idle": "2024-02-17T15:35:13.212694Z",
     "shell.execute_reply": "2024-02-17T15:35:13.211671Z"
    },
    "papermill": {
     "duration": 0.033438,
     "end_time": "2024-02-17T15:35:13.215084",
     "exception": false,
     "start_time": "2024-02-17T15:35:13.181646",
     "status": "completed"
    },
    "tags": []
   },
   "outputs": [
    {
     "data": {
      "text/plain": [
       "array([0])"
      ]
     },
     "execution_count": 37,
     "metadata": {},
     "output_type": "execute_result"
    }
   ],
   "source": [
    "clf1.predict([\"you suck\"])"
   ]
  },
  {
   "cell_type": "code",
   "execution_count": 38,
   "id": "74cfafbd",
   "metadata": {
    "execution": {
     "iopub.execute_input": "2024-02-17T15:35:13.258893Z",
     "iopub.status.busy": "2024-02-17T15:35:13.257553Z",
     "iopub.status.idle": "2024-02-17T15:35:13.267521Z",
     "shell.execute_reply": "2024-02-17T15:35:13.265977Z"
    },
    "papermill": {
     "duration": 0.035306,
     "end_time": "2024-02-17T15:35:13.270427",
     "exception": false,
     "start_time": "2024-02-17T15:35:13.235121",
     "status": "completed"
    },
    "tags": []
   },
   "outputs": [
    {
     "data": {
      "text/plain": [
       "array([1])"
      ]
     },
     "execution_count": 38,
     "metadata": {},
     "output_type": "execute_result"
    }
   ],
   "source": [
    "clf1.predict(['pretty'])"
   ]
  },
  {
   "cell_type": "code",
   "execution_count": 39,
   "id": "64a584f4",
   "metadata": {
    "execution": {
     "iopub.execute_input": "2024-02-17T15:35:13.315853Z",
     "iopub.status.busy": "2024-02-17T15:35:13.315330Z",
     "iopub.status.idle": "2024-02-17T15:35:13.324895Z",
     "shell.execute_reply": "2024-02-17T15:35:13.323554Z"
    },
    "papermill": {
     "duration": 0.035109,
     "end_time": "2024-02-17T15:35:13.327559",
     "exception": false,
     "start_time": "2024-02-17T15:35:13.292450",
     "status": "completed"
    },
    "tags": []
   },
   "outputs": [
    {
     "data": {
      "text/plain": [
       "array([0])"
      ]
     },
     "execution_count": 39,
     "metadata": {},
     "output_type": "execute_result"
    }
   ],
   "source": [
    "clf1.predict([\"Coke is better than pepsi, but it tastes bad compared to pepsi.\"])"
   ]
  },
  {
   "cell_type": "code",
   "execution_count": 40,
   "id": "e4ffb940",
   "metadata": {
    "execution": {
     "iopub.execute_input": "2024-02-17T15:35:13.375722Z",
     "iopub.status.busy": "2024-02-17T15:35:13.375243Z",
     "iopub.status.idle": "2024-02-17T15:35:13.382864Z",
     "shell.execute_reply": "2024-02-17T15:35:13.381667Z"
    },
    "papermill": {
     "duration": 0.034984,
     "end_time": "2024-02-17T15:35:13.385630",
     "exception": false,
     "start_time": "2024-02-17T15:35:13.350646",
     "status": "completed"
    },
    "tags": []
   },
   "outputs": [],
   "source": [
    "import pickle\n",
    "with open('sentiment_analysis_model.pkl', 'wb') as f:\n",
    "    pickle.dump(clf1, f)"
   ]
  },
  {
   "cell_type": "code",
   "execution_count": null,
   "id": "da2d5b73",
   "metadata": {
    "papermill": {
     "duration": 0.023691,
     "end_time": "2024-02-17T15:35:13.432569",
     "exception": false,
     "start_time": "2024-02-17T15:35:13.408878",
     "status": "completed"
    },
    "tags": []
   },
   "outputs": [],
   "source": []
  },
  {
   "cell_type": "code",
   "execution_count": null,
   "id": "331aed13",
   "metadata": {
    "papermill": {
     "duration": 0.022367,
     "end_time": "2024-02-17T15:35:13.478277",
     "exception": false,
     "start_time": "2024-02-17T15:35:13.455910",
     "status": "completed"
    },
    "tags": []
   },
   "outputs": [],
   "source": []
  },
  {
   "cell_type": "code",
   "execution_count": null,
   "id": "f3512e8d",
   "metadata": {
    "papermill": {
     "duration": 0.02297,
     "end_time": "2024-02-17T15:35:13.524466",
     "exception": false,
     "start_time": "2024-02-17T15:35:13.501496",
     "status": "completed"
    },
    "tags": []
   },
   "outputs": [],
   "source": []
  },
  {
   "cell_type": "code",
   "execution_count": null,
   "id": "db37c7b0",
   "metadata": {
    "papermill": {
     "duration": 0.023222,
     "end_time": "2024-02-17T15:35:13.572396",
     "exception": false,
     "start_time": "2024-02-17T15:35:13.549174",
     "status": "completed"
    },
    "tags": []
   },
   "outputs": [],
   "source": []
  },
  {
   "cell_type": "code",
   "execution_count": null,
   "id": "82e9c701",
   "metadata": {
    "papermill": {
     "duration": 0.02442,
     "end_time": "2024-02-17T15:35:13.620314",
     "exception": false,
     "start_time": "2024-02-17T15:35:13.595894",
     "status": "completed"
    },
    "tags": []
   },
   "outputs": [],
   "source": []
  },
  {
   "cell_type": "code",
   "execution_count": null,
   "id": "ed5c5d11",
   "metadata": {
    "papermill": {
     "duration": 0.022231,
     "end_time": "2024-02-17T15:35:13.665104",
     "exception": false,
     "start_time": "2024-02-17T15:35:13.642873",
     "status": "completed"
    },
    "tags": []
   },
   "outputs": [],
   "source": []
  }
 ],
 "metadata": {
  "kaggle": {
   "accelerator": "none",
   "dataSources": [
    {
     "datasetId": 4235109,
     "sourceId": 7300392,
     "sourceType": "datasetVersion"
    }
   ],
   "dockerImageVersionId": 30626,
   "isGpuEnabled": false,
   "isInternetEnabled": true,
   "language": "python",
   "sourceType": "notebook"
  },
  "kernelspec": {
   "display_name": "Python 3",
   "language": "python",
   "name": "python3"
  },
  "language_info": {
   "codemirror_mode": {
    "name": "ipython",
    "version": 3
   },
   "file_extension": ".py",
   "mimetype": "text/x-python",
   "name": "python",
   "nbconvert_exporter": "python",
   "pygments_lexer": "ipython3",
   "version": "3.10.12"
  },
  "papermill": {
   "default_parameters": {},
   "duration": 63.713199,
   "end_time": "2024-02-17T15:35:16.159981",
   "environment_variables": {},
   "exception": null,
   "input_path": "__notebook__.ipynb",
   "output_path": "__notebook__.ipynb",
   "parameters": {},
   "start_time": "2024-02-17T15:34:12.446782",
   "version": "2.4.0"
  }
 },
 "nbformat": 4,
 "nbformat_minor": 5
}
